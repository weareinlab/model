{
 "cells": [
  {
   "cell_type": "code",
   "execution_count": null,
   "metadata": {},
   "outputs": [],
   "source": [
    "import socket\n",
    "server_socket = socket.socket(socket.AF_INET, socket.SOCK_STREAM)\n",
    "server_socket.bind(('localhost', 12345))  \n",
    "server_socket.listen(1)\n",
    "print(\"Server is listening...\")\n",
    "conn, addr = server_socket.accept()\n",
    "print(f\"Connected to {addr}\")\n",
    "message = conn.recv(1024).decode()\n",
    "print(f\"Received from client: {message}\")\n",
    "conn.send(message.encode())\n",
    "conn.close()\n",
    "server_socket.close()"
   ]
  },
  {
   "cell_type": "code",
   "execution_count": null,
   "metadata": {},
   "outputs": [],
   "source": [
    "import socket\n",
    "client_socket = socket.socket(socket.AF_INET, socket.SOCK_STREAM)\n",
    "client_socket.connect(('localhost', 12345))\n",
    "message = \"Hello, Server!\"\n",
    "client_socket.send(message.encode())\n",
    "echoed_message = client_socket.recv(1024).decode()\n",
    "print(f\"Received from server: {echoed_message}\")\n",
    "client_socket.close()"
   ]
  },
  {
   "cell_type": "code",
   "execution_count": null,
   "metadata": {},
   "outputs": [],
   "source": [
    "from multiprocessing import Process, Value\n",
    "import time\n",
    "\n",
    "def writer(shared_value):\n",
    "    shared_value.value = 42\n",
    "    print(\"Writer process: wrote 42 into shared memory\")\n",
    "\n",
    "def reader(shared_value):\n",
    "    time.sleep(1)\n",
    "    print(\"Reader process: read from shared memory:\", shared_value.value)\n",
    "\n",
    "if __name__ == \"__main__\":\n",
    "    shared_value = Value('i', 0)\n",
    "\n",
    "    writer_process = Process(target=writer, args=(shared_value,))\n",
    "    reader_process = Process(target=reader, args=(shared_value,))\n",
    "\n",
    "    writer_process.start()\n",
    "    reader_process.start()\n",
    "\n",
    "    writer_process.join()\n",
    "    reader_process.join()"
   ]
  }
 ],
 "metadata": {
  "kernelspec": {
   "display_name": "Python 3",
   "language": "python",
   "name": "python3"
  },
  "language_info": {
   "name": "python",
   "version": "3.11.9"
  }
 },
 "nbformat": 4,
 "nbformat_minor": 2
}
