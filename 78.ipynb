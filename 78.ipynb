{
 "cells": [
  {
   "cell_type": "code",
   "execution_count": null,
   "metadata": {},
   "outputs": [],
   "source": [
    "import socket\n",
    "import json\n",
    "\n",
    "client_socket = socket.socket(socket.AF_INET, socket.SOCK_STREAM)\n",
    "client_socket.connect(('127.0.0.1', 12345))\n",
    "\n",
    "request = {\"function\": \"add\",\"args\": [10, 5]}\n",
    "\n",
    "client_socket.sendall(json.dumps(request).encode())\n",
    "\n",
    "result = client_socket.recv(1024).decode()\n",
    "print(\"Result from server:\", result)\n",
    "\n",
    "client_socket.close()"
   ]
  },
  {
   "cell_type": "code",
   "execution_count": null,
   "metadata": {},
   "outputs": [],
   "source": [
    "import socket\n",
    "import json\n",
    "\n",
    "BUFFER_SIZE = 1024\n",
    "\n",
    "def add(a, b):\n",
    "    return a + b\n",
    "\n",
    "def subtract(a, b):\n",
    "    return a - b\n",
    "\n",
    "FUNCTIONS = {\"add\": add,\"subtract\": subtract}\n",
    "\n",
    "server_socket = socket.socket(socket.AF_INET, socket.SOCK_STREAM)\n",
    "server_socket.bind(('0.0.0.0', 12345))\n",
    "server_socket.listen(1)\n",
    "print(\"Server listening on port\")\n",
    "\n",
    "conn, addr = server_socket.accept()\n",
    "print(\"Connection from:\", addr)\n",
    "\n",
    "data = conn.recv(BUFFER_SIZE).decode()\n",
    "request = json.loads(data)\n",
    "\n",
    "func_name = request[\"function\"]\n",
    "args = request[\"args\"]\n",
    "result = FUNCTIONS[func_name](*args)\n",
    "\n",
    "conn.sendall(str(result).encode())\n",
    "conn.close()\n",
    "server_socket.close()\n",
    "print(\"Result sent to client.\")"
   ]
  },
  {
   "cell_type": "code",
   "execution_count": null,
   "metadata": {},
   "outputs": [],
   "source": [
    "from multiprocessing import Process, Value\n",
    "import time\n",
    "\n",
    "def writer(shared_value):\n",
    "    shared_value.value = 42\n",
    "    print(\"Writer process: wrote 42 into shared memory\")\n",
    "\n",
    "def reader(shared_value):\n",
    "    time.sleep(1)\n",
    "    print(\"Reader process: read from shared memory:\", shared_value.value)\n",
    "\n",
    "if __name__ == \"__main__\":\n",
    "    shared_value = Value('i', 0)\n",
    "\n",
    "    writer_process = Process(target=writer, args=(shared_value,))\n",
    "    reader_process = Process(target=reader, args=(shared_value,))\n",
    "\n",
    "    writer_process.start()\n",
    "    reader_process.start()\n",
    "\n",
    "    writer_process.join()\n",
    "    reader_process.join()"
   ]
  }
 ],
 "metadata": {
  "kernelspec": {
   "display_name": "Python 3",
   "language": "python",
   "name": "python3"
  },
  "language_info": {
   "name": "python",
   "version": "3.11.9"
  }
 },
 "nbformat": 4,
 "nbformat_minor": 2
}
