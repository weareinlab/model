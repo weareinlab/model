{
 "cells": [
  {
   "cell_type": "code",
   "execution_count": 2,
   "metadata": {},
   "outputs": [
    {
     "name": "stdout",
     "output_type": "stream",
     "text": [
      "Optimal Values:  [9.99999245 9.99999288 0.        ]\n",
      "Optimal Policy:  [0 1 0]\n"
     ]
    }
   ],
   "source": [
    "# Value Iteration\n",
    "import numpy as np\n",
    "\n",
    "def value_iteration(states, actions, probs, rewards, gamma=0.9, theta=1e-6):\n",
    "    V = np.zeros(len(states))\n",
    "    while True:\n",
    "        delta = 0\n",
    "        for state in range(len(states)):\n",
    "            state_value = V[state]\n",
    "            Q_sa = np.zeros(len(actions))\n",
    "            for action in range(len(actions)):\n",
    "                Q_sa[action] = sum([probs[state, action, state_dash] * (rewards[state, action] + gamma * V[state_dash]) for state_dash in range(len(states))])\n",
    "            V[state] = max(Q_sa)\n",
    "            delta = max(delta, abs(state_value - V[state]))\n",
    "        if delta < theta:\n",
    "            break\n",
    "    policy = np.zeros(len(states), dtype=int)\n",
    "    for state in range(len(states)):\n",
    "        Q_sa = np.zeros(len(actions))\n",
    "        for action in range(len(actions)):\n",
    "            Q_sa[action] = sum([probs[state, action, state_dash] * (rewards[state, action] + gamma * V[state_dash]) for state_dash in range(len(states))])\n",
    "        policy[state] = np.argmax(Q_sa)\n",
    "    return V, policy\n",
    "\n",
    "states = [0, 1, 2]\n",
    "actions = [0, 1]\n",
    "probs = np.array([ [[0.8,0.2,0], [0.1,0.9,0]], [[0.5,0.5,0], [0.2,0.8,0]],  [[0,0,1], [0,0,1] ]])\n",
    "rewards = np.array([ [1,-1], [-1, 1], [0, 0] ])\n",
    "V, policy = value_iteration(states, actions, probs, rewards)\n",
    "\n",
    "print(\"Optimal Values: \", V)\n",
    "print(\"Optimal Policy: \", policy)\n"
   ]
  }
 ],
 "metadata": {
  "kernelspec": {
   "display_name": "Python 3",
   "language": "python",
   "name": "python3"
  },
  "language_info": {
   "codemirror_mode": {
    "name": "ipython",
    "version": 3
   },
   "file_extension": ".py",
   "mimetype": "text/x-python",
   "name": "python",
   "nbconvert_exporter": "python",
   "pygments_lexer": "ipython3",
   "version": "3.11.9"
  }
 },
 "nbformat": 4,
 "nbformat_minor": 2
}
