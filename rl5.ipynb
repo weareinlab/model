{
 "cells": [
  {
   "cell_type": "code",
   "execution_count": 6,
   "metadata": {},
   "outputs": [
    {
     "name": "stdout",
     "output_type": "stream",
     "text": [
      "Greedy action selected: 0\n",
      "Epsilon-greedy action selected: 3\n",
      "Softmax action selected: 2\n",
      "UCB action selected: 0\n"
     ]
    }
   ],
   "source": [
    "import numpy as np\n",
    "import random\n",
    "\n",
    "def greedy_action_selection(Q, state):\n",
    "    return np.argmax(Q[state])\n",
    "\n",
    "def epsilon_greedy_action_selection(Q, state, epsilon=0.1):\n",
    "    if random.uniform(0, 1) < epsilon:\n",
    "        return random.choice(range(Q.shape[1]))\n",
    "    else:\n",
    "        return np.argmax(Q[state])\n",
    "\n",
    "def softmax_action_selection(Q, state, tau=1.0):\n",
    "    q_values = Q[state]\n",
    "    exp_q = np.exp(q_values / tau)\n",
    "    action_probabilities = exp_q / np.sum(exp_q)\n",
    "    return np.random.choice(len(q_values), p=action_probabilities)\n",
    "\n",
    "def ucb_action_selection(Q, state, action_counts, total_counts, c=1.0):\n",
    "    ucb_values = np.zeros(Q.shape[1])\n",
    "    for a in range(Q.shape[1]):\n",
    "        if action_counts[state, a] == 0:\n",
    "            return a  \n",
    "        else:\n",
    "            ucb_values[a] = Q[state, a] + c * np.sqrt(np.log(total_counts) / (action_counts[state, a] + 1e-5))\n",
    "    return np.argmax(ucb_values)\n",
    "\n",
    "Q = np.array([[1.0, 0.5, 0.2, 0.8], [0.1, 2.0, 0.3, 0.4], [0.5, 0.4, 3.0, 1.0]])\n",
    "action_counts = np.zeros(Q.shape)\n",
    "total_counts = 1\n",
    "state = 0\n",
    "\n",
    "action_greedy = greedy_action_selection(Q, state)\n",
    "print(f\"Greedy action selected: {action_greedy}\")\n",
    "action_epsilon_greedy = epsilon_greedy_action_selection(Q, state, epsilon=0.1)\n",
    "print(f\"Epsilon-greedy action selected: {action_epsilon_greedy}\")\n",
    "action_softmax = softmax_action_selection(Q, state, tau=1.0)\n",
    "print(f\"Softmax action selected: {action_softmax}\")\n",
    "action_ucb = ucb_action_selection(Q, state, action_counts, total_counts, c=2.0)\n",
    "print(f\"UCB action selected: {action_ucb}\")"
   ]
  }
 ],
 "metadata": {
  "kernelspec": {
   "display_name": "Python 3",
   "language": "python",
   "name": "python3"
  },
  "language_info": {
   "codemirror_mode": {
    "name": "ipython",
    "version": 3
   },
   "file_extension": ".py",
   "mimetype": "text/x-python",
   "name": "python",
   "nbconvert_exporter": "python",
   "pygments_lexer": "ipython3",
   "version": "3.11.9"
  }
 },
 "nbformat": 4,
 "nbformat_minor": 2
}
