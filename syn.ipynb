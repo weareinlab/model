{
 "cells": [
  {
   "cell_type": "code",
   "execution_count": null,
   "metadata": {
    "colab": {
     "base_uri": "https://localhost:8080/"
    },
    "id": "4ZR1mUr0agdz",
    "outputId": "574b448c-3e79-46e9-935c-506183574feb"
   },
   "outputs": [],
   "source": [
    "# Install KaggleHub and other dependencies\n",
    "!pip install kagglehub tensorflow numpy matplotlib nltk h5py\n"
   ]
  },
  {
   "cell_type": "code",
   "execution_count": null,
   "metadata": {
    "colab": {
     "base_uri": "https://localhost:8080/"
    },
    "id": "pux0yxAgbfwo",
    "outputId": "605f528a-c6a5-4ea5-c905-27283125ccfb"
   },
   "outputs": [],
   "source": [
    "import kagglehub\n",
    "\n",
    "path = kagglehub.dataset_download(\"wenewone/cub2002011\")\n",
    "print(\"Path to dataset files:\", path)\n"
   ]
  },
  {
   "cell_type": "code",
   "execution_count": null,
   "metadata": {
    "colab": {
     "base_uri": "https://localhost:8080/"
    },
    "id": "usP0lcN6dAKx",
    "outputId": "515174c2-7f8b-4d59-e479-3131174605e4"
   },
   "outputs": [],
   "source": [
    "import os\n",
    "\n",
    "dataset_path = r\"C:\\Users\\Arun\\.cache\\kagglehub\\datasets\\wenewone\\cub2002011\\versions\\7\"\n",
    "image_dir = os.path.join(dataset_path, \"CUB_200_2011/images\")\n",
    "labels_file = os.path.join(dataset_path, \"CUB_200_2011/classes.txt\")\n",
    "\n",
    "print(\"Images directory exists:\", os.path.exists(image_dir))\n",
    "print(\"Class labels file exists:\", os.path.exists(labels_file))\n",
    "\n",
    "for root, dirs, files in os.walk(dataset_path):\n",
    "    print(\"Directory:\", root)\n",
    "    for file in files:\n",
    "        print(\"File:\", file)\n"
   ]
  },
  {
   "cell_type": "code",
   "execution_count": null,
   "metadata": {
    "colab": {
     "base_uri": "https://localhost:8080/"
    },
    "id": "QJjcq80HbiQH",
    "outputId": "530e3568-0192-4254-e300-560ac8d14c63"
   },
   "outputs": [],
   "source": [
    "def load_class_labels(labels_file):\n",
    "    \"\"\"Load class labels from the file.\"\"\"\n",
    "    class_labels = {}\n",
    "    with open(labels_file, \"r\") as f:\n",
    "        for line in f:\n",
    "            parts = line.strip().split(\" \")\n",
    "            class_id = parts[0].zfill(3)\n",
    "            class_name = \" \".join(parts[1:])\n",
    "            class_labels[class_id] = class_name\n",
    "    return class_labels\n",
    "\n",
    "class_labels = load_class_labels(labels_file)\n",
    "print(f\"Loaded {len(class_labels)} class labels.\")\n"
   ]
  },
  {
   "cell_type": "code",
   "execution_count": null,
   "metadata": {
    "colab": {
     "base_uri": "https://localhost:8080/"
    },
    "id": "egjm5FKAb_Ek",
    "outputId": "9ba6aba3-47a0-4e23-ad74-39a97ce26693"
   },
   "outputs": [],
   "source": [
    "def map_images_to_classes(image_dir):\n",
    "    \"\"\"Map images to their respective class labels.\"\"\"\n",
    "    image_paths = []\n",
    "    captions = []\n",
    "    for folder_name in os.listdir(image_dir):\n",
    "        folder_path = os.path.join(image_dir, folder_name)\n",
    "        if os.path.isdir(folder_path):\n",
    "            class_name = folder_name.split(\".\")[1]\n",
    "            for image_file in os.listdir(folder_path):\n",
    "                image_paths.append(os.path.join(folder_path, image_file))\n",
    "                captions.append(class_name)\n",
    "    return image_paths, captions\n",
    "\n",
    "image_paths, captions = map_images_to_classes(image_dir)\n",
    "print(f\"Mapped {len(image_paths)} images to class labels.\")\n"
   ]
  },
  {
   "cell_type": "code",
   "execution_count": null,
   "metadata": {
    "colab": {
     "base_uri": "https://localhost:8080/"
    },
    "id": "gnYjGtLsewZh",
    "outputId": "0a1d5cf2-2f34-4178-fb38-2ef571c998e2"
   },
   "outputs": [],
   "source": [
    "from tensorflow.keras.preprocessing.image import load_img, img_to_array\n",
    "import numpy as np\n",
    "\n",
    "def load_images_and_labels(image_paths, captions, img_size=(64, 64)):\n",
    "    images = []\n",
    "    labels = []\n",
    "    for img_path, caption in zip(image_paths, captions):\n",
    "        img = load_img(img_path, target_size=img_size)\n",
    "        img_array = img_to_array(img) / 255.0\n",
    "        images.append(img_array)\n",
    "        labels.append(caption)\n",
    "    return np.array(images), labels\n",
    "\n",
    "images, labels = load_images_and_labels(image_paths, captions)\n",
    "print(f\"Loaded {len(images)} images and their corresponding labels.\")\n"
   ]
  },
  {
   "cell_type": "code",
   "execution_count": null,
   "metadata": {
    "colab": {
     "base_uri": "https://localhost:8080/"
    },
    "id": "OG_I99y_fHeU",
    "outputId": "703eea08-8971-4c87-8903-90ee67c920e6"
   },
   "outputs": [],
   "source": [
    "from tensorflow.keras.preprocessing.text import Tokenizer\n",
    "from tensorflow.keras.preprocessing.sequence import pad_sequences\n",
    "\n",
    "tokenizer = Tokenizer()\n",
    "tokenizer.fit_on_texts(labels)\n",
    "tokenized_labels = tokenizer.texts_to_sequences(labels)\n",
    "max_length = max(len(seq) for seq in tokenized_labels)\n",
    "padded_labels = pad_sequences(tokenized_labels, maxlen=max_length)\n",
    "\n",
    "vocab_size = len(tokenizer.word_index) + 1\n",
    "print(\"Vocabulary size:\", vocab_size)\n",
    "print(\"Max sequence length:\", max_length)\n"
   ]
  },
  {
   "cell_type": "code",
   "execution_count": null,
   "metadata": {
    "colab": {
     "base_uri": "https://localhost:8080/",
     "height": 529
    },
    "id": "AwbPRtAMfWd3",
    "outputId": "723fee67-4117-49cd-f5fa-68c6e1babda1"
   },
   "outputs": [],
   "source": [
    "from tensorflow.keras.layers import Input, Embedding, LSTM, Dense, Reshape, Concatenate, Conv2DTranspose\n",
    "from tensorflow.keras import Model\n",
    "\n",
    "def build_generator(vocab_size, max_length):\n",
    "    text_input = Input(shape=(max_length,))\n",
    "    text_embedding = Embedding(vocab_size, 256)(text_input)\n",
    "    text_features = LSTM(256)(text_embedding)\n",
    "\n",
    "    noise_input = Input(shape=(100,))\n",
    "    combined = Concatenate()([noise_input, text_features])\n",
    "\n",
    "    x = Dense(8 * 8 * 256, activation='relu')(combined)\n",
    "    x = Reshape((8, 8, 256))(x)\n",
    "    x = Conv2DTranspose(128, (4, 4), strides=(2, 2), padding='same', activation='relu')(x)\n",
    "    x = Conv2DTranspose(64, (4, 4), strides=(2, 2), padding='same', activation='relu')(x)\n",
    "    output = Conv2DTranspose(3, (4, 4), strides=(2, 2), padding='same', activation='tanh')(x)\n",
    "\n",
    "    model = Model([noise_input, text_input], output)\n",
    "    return model\n",
    "\n",
    "generator = build_generator(vocab_size, max_length)\n",
    "generator.summary()\n"
   ]
  },
  {
   "cell_type": "code",
   "execution_count": null,
   "metadata": {
    "colab": {
     "base_uri": "https://localhost:8080/",
     "height": 596
    },
    "id": "S6SUUvSIfX88",
    "outputId": "30826e86-dc1a-4d91-a953-6206850f25dc"
   },
   "outputs": [],
   "source": [
    "from tensorflow.keras.layers import Conv2D, LeakyReLU, Flatten\n",
    "\n",
    "def build_discriminator(vocab_size, max_length):\n",
    "    text_input = Input(shape=(max_length,))\n",
    "    text_embedding = Embedding(vocab_size, 256)(text_input)\n",
    "    text_features = LSTM(256)(text_embedding)\n",
    "\n",
    "    image_input = Input(shape=(64, 64, 3))\n",
    "    x = Conv2D(64, (4, 4), strides=(2, 2), padding='same')(image_input)\n",
    "    x = LeakyReLU(alpha=0.2)(x)\n",
    "    x = Conv2D(128, (4, 4), strides=(2, 2), padding='same')(x)\n",
    "    x = LeakyReLU(alpha=0.2)(x)\n",
    "    x = Flatten()(x)\n",
    "\n",
    "    combined = Concatenate()([x, text_features])\n",
    "    x = Dense(256, activation='relu')(combined)\n",
    "    output = Dense(1, activation='sigmoid')(x)\n",
    "\n",
    "    model = Model([image_input, text_input], output)\n",
    "    return model\n",
    "\n",
    "discriminator = build_discriminator(vocab_size, max_length)\n",
    "discriminator.compile(optimizer='adam', loss='binary_crossentropy', metrics=['accuracy'])\n",
    "discriminator.summary()\n"
   ]
  },
  {
   "cell_type": "code",
   "execution_count": null,
   "metadata": {
    "colab": {
     "base_uri": "https://localhost:8080/",
     "height": 321
    },
    "id": "rrgXhGlKfdSC",
    "outputId": "52321996-95d0-4b16-ed19-2f3c39dd4015"
   },
   "outputs": [],
   "source": [
    "def build_cgan(generator, discriminator):\n",
    "    discriminator.trainable = False\n",
    "\n",
    "    noise_input = Input(shape=(100,))\n",
    "    text_input = Input(shape=(max_length,))\n",
    "    generated_image = generator([noise_input, text_input])\n",
    "    validity = discriminator([generated_image, text_input])\n",
    "\n",
    "    model = Model([noise_input, text_input], validity)\n",
    "    model.compile(optimizer='adam', loss='binary_crossentropy')\n",
    "    return model\n",
    "\n",
    "cgan = build_cgan(generator, discriminator)\n",
    "cgan.summary()\n"
   ]
  },
  {
   "cell_type": "code",
   "execution_count": null,
   "metadata": {
    "colab": {
     "base_uri": "https://localhost:8080/"
    },
    "id": "u5QaxMWTffo-",
    "outputId": "87639b26-c095-4b0a-8a37-09292b281c2c"
   },
   "outputs": [],
   "source": [
    "def train(generator, discriminator, cgan, images, labels, epochs=200, batch_size=32):\n",
    "    real = np.ones((batch_size, 1))\n",
    "    fake = np.zeros((batch_size, 1))\n",
    "\n",
    "    for epoch in range(epochs):\n",
    "        idx = np.random.randint(0, images.shape[0], batch_size)\n",
    "        real_images = images[idx]\n",
    "        real_labels = labels[idx]\n",
    "\n",
    "        d_loss_real = discriminator.train_on_batch([real_images, real_labels], real)\n",
    "\n",
    "        noise = np.random.normal(0, 1, (batch_size, 100))\n",
    "        fake_images = generator.predict([noise, real_labels])\n",
    "        d_loss_fake = discriminator.train_on_batch([fake_images, real_labels], fake)\n",
    "\n",
    "        noise = np.random.normal(0, 1, (batch_size, 100))\n",
    "        g_loss = cgan.train_on_batch([noise, real_labels], real)\n",
    "\n",
    "        if epoch % 100 == 0:\n",
    "            print(f\"{epoch}/{epochs}, D Loss Real: {d_loss_real}, D Loss Fake: {d_loss_fake}, G Loss: {g_loss}\")\n",
    "\n",
    "train(generator, discriminator, cgan, images, padded_labels, epochs=200)\n"
   ]
  },
  {
   "cell_type": "code",
   "execution_count": null,
   "metadata": {
    "colab": {
     "base_uri": "https://localhost:8080/",
     "height": 445
    },
    "id": "eB_d5QC9fiN2",
    "outputId": "2ee1efd4-17c9-4725-cc8d-a01561653a3b"
   },
   "outputs": [],
   "source": [
    "import matplotlib.pyplot as plt\n",
    "\n",
    "def generate_images(generator, tokenizer, text_description):\n",
    "    sequence = tokenizer.texts_to_sequences([text_description])\n",
    "    sequence = pad_sequences(sequence, maxlen=max_length)\n",
    "    noise = np.random.normal(0, 1, (1, 100))\n",
    "    generated_image = generator.predict([noise, sequence])\n",
    "    return (generated_image[0] + 1) / 2.0\n",
    "\n",
    "text = \"blue bird with yellow beak\"\n",
    "generated_image = generate_images(generator, tokenizer, text)\n",
    "\n",
    "plt.imshow(generated_image)\n",
    "plt.title(text)\n",
    "plt.axis(\"off\")\n",
    "plt.show()\n"
   ]
  }
 ],
 "metadata": {
  "colab": {
   "provenance": []
  },
  "kernelspec": {
   "display_name": "Python 3",
   "name": "python3"
  },
  "language_info": {
   "codemirror_mode": {
    "name": "ipython",
    "version": 3
   },
   "file_extension": ".py",
   "mimetype": "text/x-python",
   "name": "python",
   "nbconvert_exporter": "python",
   "pygments_lexer": "ipython3",
   "version": "3.11.5"
  }
 },
 "nbformat": 4,
 "nbformat_minor": 0
}
